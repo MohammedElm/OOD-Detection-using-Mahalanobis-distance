{
 "cells": [
  {
   "cell_type": "code",
   "execution_count": null,
   "metadata": {},
   "outputs": [],
   "source": [
    "import torch\n",
    "import numpy as np\n",
    "from tqdm.notebook import tqdm\n",
    "\n",
    "from datasets import load_dataset\n",
    "from transformers import BertForSequenceClassification, Trainer, TrainingArguments\n",
    "\n",
    "from bert_utils import TextSentiment, compute_centers_cov, mahalanobis_score, metrics_eval\n",
    "\n",
    "imdb = load_dataset('imdb')\n",
    "yelp = load_dataset(\"yelp_polarity\")\n",
    "tokenizer = torch.hub.load('huggingface/pytorch-transformers', 'tokenizer', 'bert-base-cased')\n",
    "\n",
    "trainset = TextSentiment(imdb['train'], tokenizer, finetune=True)\n",
    "testset = TextSentiment(imdb['test'], tokenizer, finetune=True)\n",
    "\n",
    "model = torch.hub.load('huggingface/pytorch-transformers',\n",
    "                       'modelForSequenceClassification', \n",
    "                       'bert-base-cased',\n",
    "                       output_attentions=False).cuda()\n",
    "testloader = torch.utils.data.DataLoader(testset, batch_size=1,shuffle=True,  num_workers=2)"
   ]
  },
  {
   "cell_type": "code",
   "execution_count": null,
   "metadata": {
    "jupyter": {
     "outputs_hidden": true
    }
   },
   "outputs": [],
   "source": [
    "# This cell's code is adapted from HuggingFace library documentation\n",
    "\n",
    "training_args = TrainingArguments(\n",
    "    output_dir='./models/bert/results',          # output directory\n",
    "    num_train_epochs=10,                         # total number of training epochs\n",
    "    per_device_train_batch_size=16,  # batch size per device during training\n",
    "    per_device_eval_batch_size=64,   # batch size for evaluation\n",
    "    warmup_steps=500,                # number of warmup steps for learning rate scheduler\n",
    "    weight_decay=0.01,               # strength of weight decay\n",
    "    logging_dir='./models/bert/logs',            # directory for storing logs\n",
    "    logging_steps=10,\n",
    ")\n",
    "\n",
    "trainer = Trainer(\n",
    "    model=model,                         # the instantiated 🤗 Transformers model to be trained\n",
    "    args=training_args,                  # training arguments, defined above\n",
    "    train_dataset=trainset,              # training dataset\n",
    "    eval_dataset=testset                 # evaluation dataset\n",
    ")\n",
    "\n",
    "trainer.train()"
   ]
  },
  {
   "cell_type": "code",
   "execution_count": 3,
   "metadata": {},
   "outputs": [],
   "source": [
    "torch.save(model, './models/bert/IMDB_finetuned10')"
   ]
  },
  {
   "cell_type": "code",
   "execution_count": 20,
   "metadata": {},
   "outputs": [
    {
     "data": {
      "application/vnd.jupyter.widget-view+json": {
       "model_id": "dcadcd32458b4632aabc47c2df8a5823",
       "version_major": 2,
       "version_minor": 0
      },
      "text/plain": [
       "HBox(children=(FloatProgress(value=0.0, max=62.0), HTML(value='')))"
      ]
     },
     "metadata": {},
     "output_type": "display_data"
    },
    {
     "name": "stdout",
     "output_type": "stream",
     "text": [
      "\n",
      "Validation accuracy: 80.75\n"
     ]
    },
    {
     "data": {
      "text/plain": [
       "0.8075396825396826"
      ]
     },
     "execution_count": 20,
     "metadata": {},
     "output_type": "execute_result"
    }
   ],
   "source": [
    "testloader = torch.utils.data.DataLoader(testset, batch_size=16,shuffle=True,  num_workers=2)\n",
    "\n",
    "def eval_acc(model, quantity_target=1000):\n",
    "    correct = 0\n",
    "    total = 0\n",
    "    model.eval()\n",
    "    with torch.no_grad():\n",
    "        for data in tqdm(testloader, total=quantity_target//testloader.batch_size):\n",
    "            images, labels = data['input_ids'].cuda(), data['labels'].cuda()\n",
    "            outputs = model(images)[0]\n",
    "            _, predicted = torch.max(outputs.data, 1)\n",
    "            total += labels.size(0)\n",
    "            correct += (predicted.view(-1,1) == labels).sum().item()\n",
    "            if total>=quantity_target:\n",
    "                break\n",
    "    model.train()\n",
    "    print(f'Validation accuracy: {100 * correct / total:.2f}')\n",
    "    return(correct / total)\n",
    "eval_acc(model)"
   ]
  }
 ],
 "metadata": {
  "environment": {
   "name": "pytorch-gpu.1-4.m49",
   "type": "gcloud",
   "uri": "gcr.io/deeplearning-platform-release/pytorch-gpu.1-4:m49"
  },
  "kernelspec": {
   "display_name": "Python 3",
   "language": "python",
   "name": "python3"
  },
  "language_info": {
   "codemirror_mode": {
    "name": "ipython",
    "version": 3
   },
   "file_extension": ".py",
   "mimetype": "text/x-python",
   "name": "python",
   "nbconvert_exporter": "python",
   "pygments_lexer": "ipython3",
   "version": "3.7.7"
  }
 },
 "nbformat": 4,
 "nbformat_minor": 4
}
