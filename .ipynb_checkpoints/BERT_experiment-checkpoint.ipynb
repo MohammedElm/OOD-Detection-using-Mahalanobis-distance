{
 "cells": [
  {
   "cell_type": "code",
   "execution_count": null,
   "metadata": {},
   "outputs": [],
   "source": [
    "import torch\n",
    "import torch.nn as nn\n",
    "import torch.optim as optim\n",
    "import torch.nn.functional as F\n",
    "import torch.backends.cudnn as cudnn\n",
    "from torch.utils.data.sampler import SubsetRandomSampler\n",
    "import torchvision\n",
    "import torchvision.transforms as transforms\n",
    "import numpy as np\n",
    "from tqdm.notebook import tqdm\n",
    "\n",
    "from datasets import load_dataset\n",
    "from transformers import BertForSequenceClassification, Trainer, TrainingArguments\n",
    "\n",
    "from bert_utils import TextSentiment, compute_centers_cov, mahalanobis_score, metrics_eval\n",
    "\n",
    "imdb = load_dataset('imdb')\n",
    "yelp = load_dataset(\"yelp_polarity\")\n",
    "tokenizer = torch.hub.load('huggingface/pytorch-transformers', 'tokenizer', 'bert-base-cased')\n",
    "\n",
    "trainset = TextSentiment(imdb['train'], tokenizer)\n",
    "ID = TextSentiment(imdb['test'], tokenizer)\n",
    "OOD = TextSentiment(yelp['test'], tokenizer)\n",
    "\n",
    "batch_size = 1\n",
    "trainloader = torch.utils.data.DataLoader(trainset, batch_size=batch_size, shuffle=True, num_workers=2)\n",
    "ID_loader = torch.utils.data.DataLoader(ID, batch_size=batch_size,shuffle=True, num_workers=2)\n",
    "OOD_loader = torch.utils.data.DataLoader(OOD, batch_size=batch_size,shuffle=True, num_workers=2)\n",
    "\n",
    "model = torch.hub.load('huggingface/pytorch-transformers',\n",
    "                       'modelForSequenceClassification', \n",
    "                       'bert-base-cased',\n",
    "                       output_attentions=False).cuda()\n",
    "#model = torch.load('./models/bert/IMDB_finetuned10')"
   ]
  },
  {
   "cell_type": "code",
   "execution_count": null,
   "metadata": {},
   "outputs": [],
   "source": [
    "# First computing class centers and covariance matrices\n",
    "\n",
    "model.eval()\n",
    "\n",
    "start_layer = 0\n",
    "layers = 13 # Number of layers\n",
    "num_classes = 2\n",
    "num_per_class = None\n",
    "\n",
    "centers_cov_matrices = [compute_centers_cov(trainloader, model, layer, num_classes,\n",
    "                                            num_per_class, quantity_target=None)\n",
    "                        for layer in range(start_layer,layers)]"
   ]
  },
  {
   "cell_type": "code",
   "execution_count": null,
   "metadata": {},
   "outputs": [],
   "source": [
    "# Computing the inverses of covariance matrices. It may be necessary to manually change the value of eps\n",
    "\n",
    "eps = 0.0000001 # This tiny quantity added to all covariance matrices is here to prevent divisions by zero\n",
    "                # from happening\n",
    "try:\n",
    "    inv_cov_matrices = [torch.inverse(S+eps*torch.ones(S.size()).cuda()) for _, S in centers_cov_matrices]\n",
    "except RuntimeError:\n",
    "    eps = eps * 1.05"
   ]
  },
  {
   "cell_type": "code",
   "execution_count": null,
   "metadata": {},
   "outputs": [],
   "source": [
    "# Building score dataset for logistic regression training\n",
    "\n",
    "X = []\n",
    "y = []\n",
    "\n",
    "quantity_target = 5000 # \n",
    "\n",
    "for data_in, data_out in tqdm(zip(ID_loader,OOD_loader)):\n",
    "    \n",
    "    txt_in, txt_out = data_in['input_ids'].cuda(), data_out['input_ids'].cuda()\n",
    "    \n",
    "    features_in = np.zeros((len(txt_in),layers-start_layer))\n",
    "    features_out = np.zeros((len(txt_out),layers-start_layer))\n",
    "    \n",
    "    for k in range(0, layers-start_layer):\n",
    "        \n",
    "        centers, _ = centers_cov_matrices[k]\n",
    "        inv_cov_matrix = inv_cov_matrices[k]\n",
    "        \n",
    "        scores_in = mahalanobis_score(txt_in, model, centers, inv_cov_matrix, layer=start_layer+k)\n",
    "        scores_out = mahalanobis_score(txt_out, model, centers, inv_cov_matrix, layer=start_layer+k)\n",
    "        \n",
    "        features_in[:,k] = scores_in.cpu().numpy()\n",
    "        features_out[:,k] = scores_out.cpu().numpy()\n",
    "        \n",
    "    X = X + list(features_in) + list(features_out)\n",
    "    y = y + [0]*len(scores_in) + [1]*len(scores_out)\n",
    "    \n",
    "    if len(y) >= quantity_target:\n",
    "        break\n",
    "\n",
    "np.save(f'./data/scores_IMDB_Yelp_{len(y)}',X)\n",
    "np.save(f'./data/labels_IMDB_Yelp_{len(y)}',y)"
   ]
  },
  {
   "cell_type": "code",
   "execution_count": 2,
   "metadata": {
    "collapsed": true,
    "jupyter": {
     "outputs_hidden": true
    }
   },
   "outputs": [
    {
     "name": "stdout",
     "output_type": "stream",
     "text": [
      "layer 0\n",
      "0.5\n",
      "{'auroc': -0.0, 'auprIN': 29.856134510190106, 'auprOUT': 31.5250327984636, 'detection accuracy': 50.0, 'tnr at 95 tpr': 0.0}\n",
      "layer 1\n",
      "0.9091781061371993\n",
      "{'auroc': 90.91781061371995, 'auprIN': 91.96986247859621, 'auprOUT': 89.67054833162481, 'detection accuracy': 84.03392686891996, 'tnr at 95 tpr': 48.31636648394675}\n",
      "layer 2\n",
      "0.9484060083072358\n",
      "{'auroc': 94.84060083072357, 'auprIN': 95.66162989511476, 'auprOUT': 93.82085021915283, 'detection accuracy': 88.57306865090978, 'tnr at 95 tpr': 67.42364917776038}\n",
      "layer 3\n",
      "0.9620795878525085\n",
      "{'auroc': 96.20795878525085, 'auprIN': 97.02555204269537, 'auprOUT': 95.02661309443121, 'detection accuracy': 91.76703882963635, 'tnr at 95 tpr': 76.11589663273297}\n",
      "layer 4\n",
      "0.9488868726593078\n",
      "{'auroc': 94.8886872659308, 'auprIN': 95.87248539928626, 'auprOUT': 93.62058184082966, 'detection accuracy': 89.56860512840872, 'tnr at 95 tpr': 65.54424432263117}\n",
      "layer 5\n",
      "0.9329876147015153\n",
      "{'auroc': 93.29876147015153, 'auprIN': 94.6079212286858, 'auprOUT': 91.83005321122589, 'detection accuracy': 87.33040887556498, 'tnr at 95 tpr': 55.05090054815975}\n",
      "layer 6\n",
      "0.9217250800533497\n",
      "{'auroc': 92.17247599039807, 'auprIN': 93.50610961938004, 'auprOUT': 90.72684014043978, 'detection accuracy': 85.38124347295475, 'tnr at 95 tpr': 48.70790916209867}\n",
      "layer 7\n",
      "0.922695452790454\n",
      "{'auroc': 92.26954527904539, 'auprIN': 93.64508081738524, 'auprOUT': 90.55550140657462, 'detection accuracy': 85.42619244434684, 'tnr at 95 tpr': 52.07517619420516}\n",
      "layer 8\n",
      "0.8907375024891613\n",
      "{'auroc': 89.07375024891614, 'auprIN': 90.85332446816217, 'auprOUT': 87.25572721854186, 'detection accuracy': 81.60280860638339, 'tnr at 95 tpr': 40.328895849647616}\n",
      "layer 9\n",
      "0.8540535072043213\n",
      "{'auroc': 85.40535072043212, 'auprIN': 87.5088853208249, 'auprOUT': 83.63880831294557, 'detection accuracy': 77.807085673892, 'tnr at 95 tpr': 33.594361785434614}\n",
      "layer 10\n",
      "0.8330177727720645\n",
      "{'auroc': 83.30177727720645, 'auprIN': 84.9874814748647, 'auprOUT': 81.73362209034086, 'detection accuracy': 75.9836109135078, 'tnr at 95 tpr': 29.130775254502737}\n",
      "layer 11\n",
      "0.8341114030161912\n",
      "{'auroc': 83.41114030161913, 'auprIN': 84.74995840076186, 'auprOUT': 82.34778355774047, 'detection accuracy': 75.39559256766837, 'tnr at 95 tpr': 30.540328895849644}\n",
      "layer 12\n",
      "0.8189689781664534\n",
      "{'auroc': 81.89689781664534, 'auprIN': 83.63919563772266, 'auprOUT': 78.95939541053303, 'detection accuracy': 75.2798585708148, 'tnr at 95 tpr': 24.902114330462023}\n",
      "\n",
      "All layers logistic Regression\n",
      "{'auroc': 88.8143652302418, 'auprIN': 85.57496834947229, 'auprOUT': 89.15176713880989, 'detection accuracy': 82.4453777154269, 'tnr at 95 tpr': 52.85826155050901}\n"
     ]
    }
   ],
   "source": [
    "import sklearn\n",
    "from sklearn.model_selection import train_test_split\n",
    "from sklearn.linear_model import LogisticRegression\n",
    "from sklearn.metrics import accuracy_score, roc_auc_score\n",
    "\n",
    "load_data = True # This flag is used to either load from disk or from memory.\n",
    "\n",
    "if load_data:\n",
    "    X = np.load(f'./data/scores_IMDB_Yelp_5000.npy')\n",
    "    y = np.load(f'./data/labels_IMDB_Yelp_5000.npy')\n",
    "    layers = 13\n",
    "    start_layer = 0\n",
    "else:\n",
    "    X = np.array(X)\n",
    "    y = np.array(y)\n",
    "    \n",
    "for k in range(layers-start_layer):\n",
    "    X[:,k] = X[:,k]/max(X[:,k].max(), -X[:,k].min()) # Normalizing Mahalanobis scores\n",
    "\n",
    "y = 1-y # Inverting ID/OOD convention so that the LR's coefficients are positive\n",
    "\n",
    "X_train, X_test, y_train, y_test = train_test_split(np.array(X),y, test_size=0.5, shuffle=True)\n",
    "\n",
    "LR = LogisticRegression(max_iter=200000, verbose=0, fit_intercept=False)\n",
    "LR.fit(X_train[:,1:],y_train)\n",
    "\n",
    "y_pred = LR.predict_proba(X_test[:,1:])[:,1]\n",
    "\n",
    "\n",
    "# Converting results to the format used in the metrics_eval function\n",
    "for l in range(layers):\n",
    "    scores_ID, scores_OOD = [], []\n",
    "    for k in range(len(y_test)):\n",
    "        if not y_test[k]:\n",
    "            scores_OOD.append(X_test[k,l])\n",
    "        else:\n",
    "            scores_ID.append(X_test[k,l])\n",
    "        \n",
    "    print(f'layer {l}')\n",
    "    print(roc_auc_score(y_test,X_test[:,l]))\n",
    "    print(metrics_eval(scores_ID, scores_OOD))\n",
    "\n",
    "scores_ID, scores_OOD = [], []\n",
    "for k in range(len(y_test)):\n",
    "    if not y_test[k]:\n",
    "        scores_OOD.append(y_pred[k])\n",
    "    else:\n",
    "        scores_ID.append(y_pred[k])\n",
    "\n",
    "print('\\nAll layers logistic Regression')\n",
    "print(metrics_eval(scores_ID, scores_OOD))"
   ]
  },
  {
   "cell_type": "code",
   "execution_count": 3,
   "metadata": {},
   "outputs": [
    {
     "data": {
      "image/png": "[encoded data removed]",
      "text/plain": [
       "<Figure size 720x480 with 1 Axes>"
      ]
     },
     "metadata": {
      "needs_background": "light"
     },
     "output_type": "display_data"
    }
   ],
   "source": [
    "import matplotlib.pyplot as plt\n",
    "plt.figure(dpi=120)\n",
    "plt.bar(range(1,13),LR.coef_[0])\n",
    "plt.title('Relative Importance of BERT layers in OOD detection')\n",
    "plt.xlabel('Layer index')\n",
    "plt.ylabel('Value of layer score coefficient')\n",
    "plt.xticks(range(13))\n",
    "plt.show()"
   ]
  },
  {
   "cell_type": "code",
   "execution_count": 5,
   "metadata": {},
   "outputs": [
    {
     "data": {
      "image/png": "[encoded data removed]",
      "text/plain": [
       "<Figure size 720x480 with 1 Axes>"
      ]
     },
     "metadata": {},
     "output_type": "display_data"
    }
   ],
   "source": [
    "# This cell can be used to visualize the score distributions at a specific layer\n",
    "\n",
    "import seaborn as sns\n",
    "import matplotlib.pyplot as plt\n",
    "\n",
    "l = 4 # Index of layer\n",
    "\n",
    "scores_ID, scores_OOD = [], []\n",
    "for k in range(len(y_test)):\n",
    "    if not y_test[k]:\n",
    "        scores_OOD.append(X_test[k,l])\n",
    "    else:\n",
    "        scores_ID.append(X_test[k,l])\n",
    "        \n",
    "plt.figure(dpi=120)\n",
    "sns.set_style('dark')\n",
    "sns.distplot(scores_ID, hist = True, kde = False, kde_kws = {'linewidth': 2}, label='ID')\n",
    "sns.distplot(scores_OOD, hist = True, kde = False, kde_kws = {'linewidth': 2}, label='OOD')\n",
    "plt.legend(loc='upper right')\n",
    "plt.show()"
   ]
  }
 ],
 "metadata": {
  "environment": {
   "name": "pytorch-gpu.1-4.m49",
   "type": "gcloud",
   "uri": "gcr.io/deeplearning-platform-release/pytorch-gpu.1-4:m49"
  },
  "kernelspec": {
   "display_name": "Python 3",
   "language": "python",
   "name": "python3"
  },
  "language_info": {
   "codemirror_mode": {
    "name": "ipython",
    "version": 3
   },
   "file_extension": ".py",
   "mimetype": "text/x-python",
   "name": "python",
   "nbconvert_exporter": "python",
   "pygments_lexer": "ipython3",
   "version": "3.7.7"
  }
 },
 "nbformat": 4,
 "nbformat_minor": 4
}
